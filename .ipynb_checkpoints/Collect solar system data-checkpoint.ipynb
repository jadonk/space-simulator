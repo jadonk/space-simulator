{
 "cells": [
  {
   "cell_type": "code",
   "execution_count": 22,
   "metadata": {},
   "outputs": [
    {
     "name": "stderr",
     "output_type": "stream",
     "text": [
      "\u001b[32m\u001b[1m  Resolving\u001b[22m\u001b[39m package versions...\n",
      "\u001b[32m\u001b[1m   Updating\u001b[22m\u001b[39m `~/.julia/environments/v1.4/Project.toml`\n",
      "\u001b[90m [no changes]\u001b[39m\n",
      "\u001b[32m\u001b[1m   Updating\u001b[22m\u001b[39m `~/.julia/environments/v1.4/Manifest.toml`\n",
      "\u001b[90m [no changes]\u001b[39m\n",
      "\u001b[32m\u001b[1m  Resolving\u001b[22m\u001b[39m package versions...\n",
      "\u001b[32m\u001b[1m  Installed\u001b[22m\u001b[39m PooledArrays ──────── v0.5.3\n",
      "\u001b[32m\u001b[1m  Installed\u001b[22m\u001b[39m DataValueInterfaces ─ v1.0.0\n",
      "\u001b[32m\u001b[1m  Installed\u001b[22m\u001b[39m InvertedIndices ───── v1.0.0\n",
      "\u001b[32m\u001b[1m  Installed\u001b[22m\u001b[39m WeakRefStrings ────── v0.6.2\n",
      "\u001b[32m\u001b[1m  Installed\u001b[22m\u001b[39m Tables ────────────── v1.0.4\n",
      "\u001b[32m\u001b[1m  Installed\u001b[22m\u001b[39m FilePathsBase ─────── v0.8.0\n",
      "\u001b[32m\u001b[1m  Installed\u001b[22m\u001b[39m DataFrames ────────── v0.21.0\n",
      "\u001b[32m\u001b[1m  Installed\u001b[22m\u001b[39m CategoricalArrays ─── v0.8.0\n",
      "\u001b[32m\u001b[1m  Installed\u001b[22m\u001b[39m CSV ───────────────── v0.6.2\n",
      "\u001b[32m\u001b[1m   Updating\u001b[22m\u001b[39m `~/.julia/environments/v1.4/Project.toml`\n",
      " \u001b[90m [336ed68f]\u001b[39m\u001b[92m + CSV v0.6.2\u001b[39m\n",
      "\u001b[32m\u001b[1m   Updating\u001b[22m\u001b[39m `~/.julia/environments/v1.4/Manifest.toml`\n",
      " \u001b[90m [336ed68f]\u001b[39m\u001b[92m + CSV v0.6.2\u001b[39m\n",
      " \u001b[90m [324d7699]\u001b[39m\u001b[92m + CategoricalArrays v0.8.0\u001b[39m\n",
      " \u001b[90m [a93c6f00]\u001b[39m\u001b[92m + DataFrames v0.21.0\u001b[39m\n",
      " \u001b[90m [e2d170a0]\u001b[39m\u001b[92m + DataValueInterfaces v1.0.0\u001b[39m\n",
      " \u001b[90m [48062228]\u001b[39m\u001b[92m + FilePathsBase v0.8.0\u001b[39m\n",
      " \u001b[90m [41ab1584]\u001b[39m\u001b[92m + InvertedIndices v1.0.0\u001b[39m\n",
      " \u001b[90m [2dfb63ee]\u001b[39m\u001b[92m + PooledArrays v0.5.3\u001b[39m\n",
      " \u001b[90m [bd369af6]\u001b[39m\u001b[92m + Tables v1.0.4\u001b[39m\n",
      " \u001b[90m [ea10d353]\u001b[39m\u001b[92m + WeakRefStrings v0.6.2\u001b[39m\n",
      " \u001b[90m [9fa8497b]\u001b[39m\u001b[92m + Future \u001b[39m\n"
     ]
    }
   ],
   "source": [
    "using Pkg\n",
    "Pkg.add(\"HTTP\")\n",
    "Pkg.add(\"CSV\")"
   ]
  },
  {
   "cell_type": "code",
   "execution_count": 32,
   "metadata": {
    "scrolled": true
   },
   "outputs": [
    {
     "name": "stdout",
     "output_type": "stream",
     "text": [
      "thread = 1 warning: parsed expected 11 columns, but didn't reach end of line on data row: 1. Ignoring any extra columns on this row\n",
      "thread = 1 warning: parsed expected 11 columns, but didn't reach end of line on data row: 2. Ignoring any extra columns on this row\n",
      "thread = 1 warning: parsed expected 11 columns, but didn't reach end of line on data row: 3. Ignoring any extra columns on this row\n",
      "thread = 1 warning: parsed expected 11 columns, but didn't reach end of line on data row: 4. Ignoring any extra columns on this row\n",
      "thread = 1 warning: parsed expected 11 columns, but didn't reach end of line on data row: 5. Ignoring any extra columns on this row\n",
      "thread = 1 warning: parsed expected 11 columns, but didn't reach end of line on data row: 6. Ignoring any extra columns on this row\n",
      "thread = 1 warning: parsed expected 11 columns, but didn't reach end of line on data row: 7. Ignoring any extra columns on this row\n",
      "thread = 1 warning: parsed expected 11 columns, but didn't reach end of line on data row: 8. Ignoring any extra columns on this row\n",
      "thread = 1 warning: parsed expected 11 columns, but didn't reach end of line on data row: 1. Ignoring any extra columns on this row\n",
      "thread = 1 warning: parsed expected 11 columns, but didn't reach end of line on data row: 2. Ignoring any extra columns on this row\n",
      "thread = 1 warning: parsed expected 11 columns, but didn't reach end of line on data row: 3. Ignoring any extra columns on this row\n",
      "thread = 1 warning: parsed expected 11 columns, but didn't reach end of line on data row: 4. Ignoring any extra columns on this row\n",
      "thread = 1 warning: parsed expected 11 columns, but didn't reach end of line on data row: 5. Ignoring any extra columns on this row\n",
      "thread = 1 warning: parsed expected 11 columns, but didn't reach end of line on data row: 6. Ignoring any extra columns on this row\n",
      "thread = 1 warning: parsed expected 11 columns, but didn't reach end of line on data row: 7. Ignoring any extra columns on this row\n",
      "thread = 1 warning: parsed expected 11 columns, but didn't reach end of line on data row: 8. Ignoring any extra columns on this row\n",
      "thread = 1 warning: parsed expected 11 columns, but didn't reach end of line on data row: 1. Ignoring any extra columns on this row\n",
      "thread = 1 warning: parsed expected 11 columns, but didn't reach end of line on data row: 2. Ignoring any extra columns on this row\n",
      "thread = 1 warning: parsed expected 11 columns, but didn't reach end of line on data row: 3. Ignoring any extra columns on this row\n",
      "thread = 1 warning: parsed expected 11 columns, but didn't reach end of line on data row: 4. Ignoring any extra columns on this row\n",
      "thread = 1 warning: parsed expected 11 columns, but didn't reach end of line on data row: 5. Ignoring any extra columns on this row\n",
      "thread = 1 warning: parsed expected 11 columns, but didn't reach end of line on data row: 6. Ignoring any extra columns on this row\n",
      "thread = 1 warning: parsed expected 11 columns, but didn't reach end of line on data row: 7. Ignoring any extra columns on this row\n",
      "thread = 1 warning: parsed expected 11 columns, but didn't reach end of line on data row: 8. Ignoring any extra columns on this row\n",
      "thread = 1 warning: parsed expected 11 columns, but didn't reach end of line on data row: 1. Ignoring any extra columns on this row\n",
      "thread = 1 warning: parsed expected 11 columns, but didn't reach end of line on data row: 2. Ignoring any extra columns on this row\n",
      "thread = 1 warning: parsed expected 11 columns, but didn't reach end of line on data row: 3. Ignoring any extra columns on this row\n",
      "thread = 1 warning: parsed expected 11 columns, but didn't reach end of line on data row: 4. Ignoring any extra columns on this row\n",
      "thread = 1 warning: parsed expected 11 columns, but didn't reach end of line on data row: 5. Ignoring any extra columns on this row\n",
      "thread = 1 warning: parsed expected 11 columns, but didn't reach end of line on data row: 6. Ignoring any extra columns on this row\n",
      "thread = 1 warning: parsed expected 11 columns, but didn't reach end of line on data row: 7. Ignoring any extra columns on this row\n",
      "thread = 1 warning: parsed expected 11 columns, but didn't reach end of line on data row: 8. Ignoring any extra columns on this row\n",
      "thread = 1 warning: parsed expected 11 columns, but didn't reach end of line on data row: 1. Ignoring any extra columns on this row\n",
      "thread = 1 warning: parsed expected 11 columns, but didn't reach end of line on data row: 2. Ignoring any extra columns on this row\n",
      "thread = 1 warning: parsed expected 11 columns, but didn't reach end of line on data row: 3. Ignoring any extra columns on this row\n",
      "thread = 1 warning: parsed expected 11 columns, but didn't reach end of line on data row: 4. Ignoring any extra columns on this row\n",
      "thread = 1 warning: parsed expected 11 columns, but didn't reach end of line on data row: 5. Ignoring any extra columns on this row\n",
      "thread = 1 warning: parsed expected 11 columns, but didn't reach end of line on data row: 6. Ignoring any extra columns on this row\n",
      "thread = 1 warning: parsed expected 11 columns, but didn't reach end of line on data row: 7. Ignoring any extra columns on this row\n",
      "thread = 1 warning: parsed expected 11 columns, but didn't reach end of line on data row: 8. Ignoring any extra columns on this row\n",
      "thread = 1 warning: parsed expected 11 columns, but didn't reach end of line on data row: 1. Ignoring any extra columns on this row\n",
      "thread = 1 warning: parsed expected 11 columns, but didn't reach end of line on data row: 2. Ignoring any extra columns on this row\n",
      "thread = 1 warning: parsed expected 11 columns, but didn't reach end of line on data row: 3. Ignoring any extra columns on this row\n",
      "thread = 1 warning: parsed expected 11 columns, but didn't reach end of line on data row: 4. Ignoring any extra columns on this row\n",
      "thread = 1 warning: parsed expected 11 columns, but didn't reach end of line on data row: 5. Ignoring any extra columns on this row\n",
      "thread = 1 warning: parsed expected 11 columns, but didn't reach end of line on data row: 6. Ignoring any extra columns on this row\n",
      "thread = 1 warning: parsed expected 11 columns, but didn't reach end of line on data row: 7. Ignoring any extra columns on this row\n",
      "thread = 1 warning: parsed expected 11 columns, but didn't reach end of line on data row: 8. Ignoring any extra columns on this row\n",
      "thread = 1 warning: parsed expected 11 columns, but didn't reach end of line on data row: 1. Ignoring any extra columns on this row\n",
      "thread = 1 warning: parsed expected 11 columns, but didn't reach end of line on data row: 2. Ignoring any extra columns on this row\n",
      "thread = 1 warning: parsed expected 11 columns, but didn't reach end of line on data row: 3. Ignoring any extra columns on this row\n",
      "thread = 1 warning: parsed expected 11 columns, but didn't reach end of line on data row: 4. Ignoring any extra columns on this row\n",
      "thread = 1 warning: parsed expected 11 columns, but didn't reach end of line on data row: 5. Ignoring any extra columns on this row\n",
      "thread = 1 warning: parsed expected 11 columns, but didn't reach end of line on data row: 6. Ignoring any extra columns on this row\n",
      "thread = 1 warning: parsed expected 11 columns, but didn't reach end of line on data row: 7. Ignoring any extra columns on this row\n",
      "thread = 1 warning: parsed expected 11 columns, but didn't reach end of line on data row: 8. Ignoring any extra columns on this row\n",
      "thread = 1 warning: parsed expected 11 columns, but didn't reach end of line on data row: 1. Ignoring any extra columns on this row\n",
      "thread = 1 warning: parsed expected 11 columns, but didn't reach end of line on data row: 2. Ignoring any extra columns on this row\n",
      "thread = 1 warning: parsed expected 11 columns, but didn't reach end of line on data row: 3. Ignoring any extra columns on this row\n",
      "thread = 1 warning: parsed expected 11 columns, but didn't reach end of line on data row: 4. Ignoring any extra columns on this row\n",
      "thread = 1 warning: parsed expected 11 columns, but didn't reach end of line on data row: 5. Ignoring any extra columns on this row\n",
      "thread = 1 warning: parsed expected 11 columns, but didn't reach end of line on data row: 6. Ignoring any extra columns on this row\n",
      "thread = 1 warning: parsed expected 11 columns, but didn't reach end of line on data row: 7. Ignoring any extra columns on this row\n",
      "thread = 1 warning: parsed expected 11 columns, but didn't reach end of line on data row: 8. Ignoring any extra columns on this row\n"
     ]
    },
    {
     "name": "stdout",
     "output_type": "stream",
     "text": [
      "thread = 1 warning: parsed expected 11 columns, but didn't reach end of line on data row: 1. Ignoring any extra columns on this row\n",
      "thread = 1 warning: parsed expected 11 columns, but didn't reach end of line on data row: 2. Ignoring any extra columns on this row\n",
      "thread = 1 warning: parsed expected 11 columns, but didn't reach end of line on data row: 3. Ignoring any extra columns on this row\n",
      "thread = 1 warning: parsed expected 11 columns, but didn't reach end of line on data row: 4. Ignoring any extra columns on this row\n",
      "thread = 1 warning: parsed expected 11 columns, but didn't reach end of line on data row: 5. Ignoring any extra columns on this row\n",
      "thread = 1 warning: parsed expected 11 columns, but didn't reach end of line on data row: 6. Ignoring any extra columns on this row\n",
      "thread = 1 warning: parsed expected 11 columns, but didn't reach end of line on data row: 7. Ignoring any extra columns on this row\n",
      "thread = 1 warning: parsed expected 11 columns, but didn't reach end of line on data row: 8. Ignoring any extra columns on this row\n",
      "thread = 1 warning: parsed expected 11 columns, but didn't reach end of line on data row: 1. Ignoring any extra columns on this row\n",
      "thread = 1 warning: parsed expected 11 columns, but didn't reach end of line on data row: 2. Ignoring any extra columns on this row\n",
      "thread = 1 warning: parsed expected 11 columns, but didn't reach end of line on data row: 3. Ignoring any extra columns on this row\n",
      "thread = 1 warning: parsed expected 11 columns, but didn't reach end of line on data row: 4. Ignoring any extra columns on this row\n",
      "thread = 1 warning: parsed expected 11 columns, but didn't reach end of line on data row: 5. Ignoring any extra columns on this row\n",
      "thread = 1 warning: parsed expected 11 columns, but didn't reach end of line on data row: 6. Ignoring any extra columns on this row\n",
      "thread = 1 warning: parsed expected 11 columns, but didn't reach end of line on data row: 7. Ignoring any extra columns on this row\n",
      "thread = 1 warning: parsed expected 11 columns, but didn't reach end of line on data row: 8. Ignoring any extra columns on this row\n"
     ]
    },
    {
     "data": {
      "text/html": [
       "<table class=\"data-frame\"><thead><tr><th></th><th>JDTDB</th><th>TDB</th><th>X</th><th>Y</th><th>Z</th><th>VX</th></tr><tr><th></th><th>Float64</th><th>String</th><th>Float64</th><th>Float64</th><th>Float64</th><th>Float64</th></tr></thead><tbody><p>8 rows × 11 columns (omitted printing of 5 columns)</p><tr><th>1</th><td>2.45898e6</td><td> A.D. 2020-May-07 00:00:00.0000</td><td>2.10146e9</td><td>-4.57275e9</td><td>-7.67457e7</td><td>-16.037</td></tr><tr><th>2</th><td>2.45901e6</td><td> A.D. 2020-Jun-06 00:00:00.0000</td><td>2.04916e9</td><td>-4.53296e9</td><td>-8.08597e7</td><td>-23.2092</td></tr><tr><th>3</th><td>2.45904e6</td><td> A.D. 2020-Jul-06 00:00:00.0000</td><td>1.9873e9</td><td>-4.52983e9</td><td>-8.49688e7</td><td>-23.2474</td></tr><tr><th>4</th><td>2.45907e6</td><td> A.D. 2020-Aug-05 00:00:00.0000</td><td>1.93465e9</td><td>-4.5633e9</td><td>-8.90806e7</td><td>-16.2657</td></tr><tr><th>5</th><td>2.4591e6</td><td> A.D. 2020-Sep-04 00:00:00.0000</td><td>1.90776e9</td><td>-4.62455e9</td><td>-9.31898e7</td><td>-3.79049</td></tr><tr><th>6</th><td>2.45913e6</td><td> A.D. 2020-Oct-04 00:00:00.0000</td><td>1.91729e9</td><td>-4.69779e9</td><td>-9.7293e7</td><td>11.2618</td></tr><tr><th>7</th><td>2.45916e6</td><td> A.D. 2020-Nov-03 00:00:00.0000</td><td>1.96501e9</td><td>-4.76351e9</td><td>-1.014e8</td><td>25.0217</td></tr><tr><th>8</th><td>2.45919e6</td><td> A.D. 2020-Dec-03 00:00:00.0000</td><td>2.04264e9</td><td>-4.80333e9</td><td>-1.05509e8</td><td>33.7201</td></tr></tbody></table>"
      ],
      "text/latex": [
       "\\begin{tabular}{r|ccccccc}\n",
       "\t& JDTDB & TDB & X & Y & Z & VX & \\\\\n",
       "\t\\hline\n",
       "\t& Float64 & String & Float64 & Float64 & Float64 & Float64 & \\\\\n",
       "\t\\hline\n",
       "\t1 & 2.45898e6 &  A.D. 2020-May-07 00:00:00.0000 & 2.10146e9 & -4.57275e9 & -7.67457e7 & -16.037 & $\\dots$ \\\\\n",
       "\t2 & 2.45901e6 &  A.D. 2020-Jun-06 00:00:00.0000 & 2.04916e9 & -4.53296e9 & -8.08597e7 & -23.2092 & $\\dots$ \\\\\n",
       "\t3 & 2.45904e6 &  A.D. 2020-Jul-06 00:00:00.0000 & 1.9873e9 & -4.52983e9 & -8.49688e7 & -23.2474 & $\\dots$ \\\\\n",
       "\t4 & 2.45907e6 &  A.D. 2020-Aug-05 00:00:00.0000 & 1.93465e9 & -4.5633e9 & -8.90806e7 & -16.2657 & $\\dots$ \\\\\n",
       "\t5 & 2.4591e6 &  A.D. 2020-Sep-04 00:00:00.0000 & 1.90776e9 & -4.62455e9 & -9.31898e7 & -3.79049 & $\\dots$ \\\\\n",
       "\t6 & 2.45913e6 &  A.D. 2020-Oct-04 00:00:00.0000 & 1.91729e9 & -4.69779e9 & -9.7293e7 & 11.2618 & $\\dots$ \\\\\n",
       "\t7 & 2.45916e6 &  A.D. 2020-Nov-03 00:00:00.0000 & 1.96501e9 & -4.76351e9 & -1.014e8 & 25.0217 & $\\dots$ \\\\\n",
       "\t8 & 2.45919e6 &  A.D. 2020-Dec-03 00:00:00.0000 & 2.04264e9 & -4.80333e9 & -1.05509e8 & 33.7201 & $\\dots$ \\\\\n",
       "\\end{tabular}\n"
      ],
      "text/plain": [
       "8×11 DataFrames.DataFrame. Omitted printing of 7 columns\n",
       "│ Row │ JDTDB     │ TDB                             │ X         │ Y          │\n",
       "│     │ \u001b[90mFloat64\u001b[39m   │ \u001b[90mString\u001b[39m                          │ \u001b[90mFloat64\u001b[39m   │ \u001b[90mFloat64\u001b[39m    │\n",
       "├─────┼───────────┼─────────────────────────────────┼───────────┼────────────┤\n",
       "│ 1   │ 2.45898e6 │  A.D. 2020-May-07 00:00:00.0000 │ 2.10146e9 │ -4.57275e9 │\n",
       "│ 2   │ 2.45901e6 │  A.D. 2020-Jun-06 00:00:00.0000 │ 2.04916e9 │ -4.53296e9 │\n",
       "│ 3   │ 2.45904e6 │  A.D. 2020-Jul-06 00:00:00.0000 │ 1.9873e9  │ -4.52983e9 │\n",
       "│ 4   │ 2.45907e6 │  A.D. 2020-Aug-05 00:00:00.0000 │ 1.93465e9 │ -4.5633e9  │\n",
       "│ 5   │ 2.4591e6  │  A.D. 2020-Sep-04 00:00:00.0000 │ 1.90776e9 │ -4.62455e9 │\n",
       "│ 6   │ 2.45913e6 │  A.D. 2020-Oct-04 00:00:00.0000 │ 1.91729e9 │ -4.69779e9 │\n",
       "│ 7   │ 2.45916e6 │  A.D. 2020-Nov-03 00:00:00.0000 │ 1.96501e9 │ -4.76351e9 │\n",
       "│ 8   │ 2.45919e6 │  A.D. 2020-Dec-03 00:00:00.0000 │ 2.04264e9 │ -4.80333e9 │"
      ]
     },
     "execution_count": 32,
     "metadata": {},
     "output_type": "execute_result"
    }
   ],
   "source": [
    "import HTTP\n",
    "import CSV\n",
    "function pdata(command)\n",
    "    r = HTTP.request(\"GET\", \"https://ssd.jpl.nasa.gov/horizons_batch.cgi?\" *\n",
    "        \"batch=1&MAKE_EPHEM='YES'&TABLE_TYPE='VECTORS'&START_TIME='2020-05-07'&\" *\n",
    "        \"STOP_TIME='2020-12-30'&STEP_SIZE='30%20d'&CSV_FORMAT='YES'\" *\n",
    "        \"&COMMAND='\" * command * \"'\")\n",
    "    m = match(r\"\\$\\$SOE\\n([^\\$]*)\\$\\$EOE\\n\", String(r.body))\n",
    "    CSV.read(IOBuffer(m[1]), header=[\"JDTDB\", \"TDB\", \"X\", \"Y\", \"Z\", \"VX\", \"VY\", \"VZ\", \"LT\", \"RG\", \"RR\"])\n",
    "end\n",
    "sun = pdata(\"10\")\n",
    "mercury = pdata(\"199\")\n",
    "venus = pdata(\"299\")\n",
    "earth = pdata(\"399\")\n",
    "mars = pdata(\"499\")\n",
    "jupiter = pdata(\"599\")\n",
    "saturn = pdata(\"699\")\n",
    "uranus = pdata(\"799\")\n",
    "neptune = pdata(\"899\")\n",
    "pluto = pdata(\"999\")"
   ]
  }
 ],
 "metadata": {
  "kernelspec": {
   "display_name": "Julia 1.4.1",
   "language": "julia",
   "name": "julia-1.4"
  },
  "language_info": {
   "file_extension": ".jl",
   "mimetype": "application/julia",
   "name": "julia",
   "version": "1.4.1"
  }
 },
 "nbformat": 4,
 "nbformat_minor": 2
}
