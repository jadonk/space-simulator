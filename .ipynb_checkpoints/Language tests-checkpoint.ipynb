{
 "cells": [
  {
   "cell_type": "code",
   "execution_count": 2,
   "metadata": {},
   "outputs": [
    {
     "name": "stdout",
     "output_type": "stream",
     "text": [
      "Expr\n",
      "  head: Symbol call\n",
      "  args: Array{Any}((3,))\n",
      "    1: Symbol +\n",
      "    2: Expr\n",
      "      head: Symbol ::\n",
      "      args: Array{Any}((2,))\n",
      "        1: Symbol Uint32\n",
      "        2: Int64 1\n",
      "    3: Expr\n",
      "      head: Symbol ::\n",
      "      args: Array{Any}((2,))\n",
      "        1: Symbol Uint32\n",
      "        2: Int64 1\n"
     ]
    }
   ],
   "source": [
    "expr = Meta.parse(\"1+1\")\n",
    "dump(expr)"
   ]
  },
  {
   "cell_type": "code",
   "execution_count": 8,
   "metadata": {},
   "outputs": [
    {
     "ename": "TypeError",
     "evalue": "TypeError: in typeassert, expected UInt32, got Int64",
     "output_type": "error",
     "traceback": [
      "TypeError: in typeassert, expected UInt32, got Int64",
      "",
      "Stacktrace:",
      " [1] top-level scope at In[8]:1"
     ]
    }
   ],
   "source": [
    "(1)::UInt32 + (1)::UInt32"
   ]
  }
 ],
 "metadata": {
  "kernelspec": {
   "display_name": "Julia 1.4.1",
   "language": "julia",
   "name": "julia-1.4"
  },
  "language_info": {
   "file_extension": ".jl",
   "mimetype": "application/julia",
   "name": "julia",
   "version": "1.4.1"
  }
 },
 "nbformat": 4,
 "nbformat_minor": 2
}
